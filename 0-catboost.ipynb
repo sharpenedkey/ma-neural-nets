{
 "cells": [
  {
   "cell_type": "markdown",
   "metadata": {},
   "source": [
    "# Shuttle"
   ]
  },
  {
   "cell_type": "code",
   "execution_count": null,
   "metadata": {},
   "outputs": [
    {
     "name": "stdout",
     "output_type": "stream",
     "text": [
      "Test Accuracy: 0.9998\n",
      "Classification Report:\n",
      "              precision    recall  f1-score   support\n",
      "\n",
      "           1       1.00      1.00      1.00      9117\n",
      "           2       1.00      1.00      1.00        10\n",
      "           3       0.97      1.00      0.99        34\n",
      "           4       1.00      1.00      1.00      1781\n",
      "           5       1.00      1.00      1.00       653\n",
      "           6       1.00      1.00      1.00         2\n",
      "           7       1.00      1.00      1.00         3\n",
      "\n",
      "    accuracy                           1.00     11600\n",
      "   macro avg       1.00      1.00      1.00     11600\n",
      "weighted avg       1.00      1.00      1.00     11600\n",
      "\n"
     ]
    }
   ],
   "source": [
    "import pandas as pd\n",
    "from sklearn.metrics import accuracy_score, classification_report\n",
    "\n",
    "from catboost import CatBoostClassifier\n",
    "\n",
    "# Load the training dataset\n",
    "train_data = pd.read_csv(\"shuttle_train.csv\")\n",
    "train_data = train_data.sample(frac=1).reset_index(drop=True)  # Shuffle\n",
    "\n",
    "# Load the test dataset\n",
    "test_data = pd.read_csv(\"shuttle_test.csv\")\n",
    "test_data = test_data.sample(frac=1).reset_index(drop=True)  # Shuffle\n",
    "\n",
    "# Split features and labels\n",
    "train_y = train_data['label']\n",
    "train_X = train_data.drop(['label'], axis=1)\n",
    "\n",
    "test_y = test_data['label']\n",
    "test_X = test_data.drop(['label'], axis=1)\n",
    "\n",
    "model = CatBoostClassifier(learning_rate=1, depth=6)\n",
    "fit_model = model.fit(X=train_X, y=train_y, verbose=False)\n",
    "\n",
    "test_predictions = fit_model.predict(test_data)\n",
    "\n",
    "# Calculate accuracy\n",
    "accuracy = accuracy_score(test_y, test_predictions)\n",
    "print(f\"Test Accuracy: {accuracy:.4f}\")\n",
    "\n",
    "# Classification Report\n",
    "print(\"Classification Report:\")\n",
    "print(classification_report(test_y, test_predictions))"
   ]
  },
  {
   "cell_type": "markdown",
   "metadata": {},
   "source": [
    "Runtime: 24.4s"
   ]
  },
  {
   "cell_type": "markdown",
   "metadata": {},
   "source": [
    "# Covertype"
   ]
  },
  {
   "cell_type": "code",
   "execution_count": 8,
   "metadata": {},
   "outputs": [
    {
     "name": "stdout",
     "output_type": "stream",
     "text": [
      "Test Accuracy: 0.7372\n",
      "Classification Report:\n",
      "              precision    recall  f1-score   support\n",
      "\n",
      "           1       0.73      0.73      0.73     42368\n",
      "           2       0.77      0.77      0.77     56661\n",
      "           3       0.73      0.74      0.74      7151\n",
      "           4       0.64      0.68      0.66       549\n",
      "           5       0.38      0.39      0.38      1899\n",
      "           6       0.50      0.50      0.50      3473\n",
      "           7       0.73      0.72      0.73      4102\n",
      "\n",
      "    accuracy                           0.74    116203\n",
      "   macro avg       0.64      0.65      0.64    116203\n",
      "weighted avg       0.74      0.74      0.74    116203\n",
      "\n"
     ]
    }
   ],
   "source": [
    "import pandas as pd\n",
    "from sklearn.metrics import accuracy_score, classification_report\n",
    "\n",
    "from catboost import CatBoostClassifier\n",
    "\n",
    "# Load the training dataset\n",
    "train_data = pd.read_csv(\"covtype_train.csv\")\n",
    "train_data = train_data.sample(frac=1).reset_index(drop=True)  # Shuffle\n",
    "\n",
    "# Load the test dataset\n",
    "test_data = pd.read_csv(\"covtype_test.csv\")\n",
    "test_data = test_data.sample(frac=1).reset_index(drop=True)  # Shuffle\n",
    "\n",
    "# Split features and labels\n",
    "train_y = train_data['label']\n",
    "train_X = train_data.drop(['label'], axis=1)\n",
    "\n",
    "test_y = test_data['label']\n",
    "test_X = test_data.drop(['label'], axis=1)\n",
    "\n",
    "model = CatBoostClassifier(learning_rate=1, depth=6)\n",
    "fit_model = model.fit(X=train_X, y=train_y, verbose=False)\n",
    "\n",
    "test_predictions = fit_model.predict(test_data)\n",
    "\n",
    "# Calculate accuracy\n",
    "accuracy = accuracy_score(test_y, test_predictions)\n",
    "print(f\"Test Accuracy: {accuracy:.4f}\")\n",
    "\n",
    "# Classification Report\n",
    "print(\"Classification Report:\")\n",
    "print(classification_report(test_y, test_predictions))"
   ]
  },
  {
   "cell_type": "markdown",
   "metadata": {},
   "source": [
    "Runtime: 4m 36.5s"
   ]
  },
  {
   "cell_type": "markdown",
   "metadata": {},
   "source": [
    "# KDD"
   ]
  },
  {
   "cell_type": "code",
   "execution_count": 3,
   "metadata": {},
   "outputs": [
    {
     "name": "stdout",
     "output_type": "stream",
     "text": [
      "Test Accuracy: 0.9967\n",
      "Classification Report:\n"
     ]
    },
    {
     "name": "stderr",
     "output_type": "stream",
     "text": [
      "d:\\Uni Things\\Masterarbeit\\NNs\\.venv\\Lib\\site-packages\\sklearn\\metrics\\_classification.py:1531: UndefinedMetricWarning: Precision is ill-defined and being set to 0.0 in labels with no predicted samples. Use `zero_division` parameter to control this behavior.\n",
      "  _warn_prf(average, modifier, f\"{metric.capitalize()} is\", len(result))\n",
      "d:\\Uni Things\\Masterarbeit\\NNs\\.venv\\Lib\\site-packages\\sklearn\\metrics\\_classification.py:1531: UndefinedMetricWarning: Precision is ill-defined and being set to 0.0 in labels with no predicted samples. Use `zero_division` parameter to control this behavior.\n",
      "  _warn_prf(average, modifier, f\"{metric.capitalize()} is\", len(result))\n",
      "d:\\Uni Things\\Masterarbeit\\NNs\\.venv\\Lib\\site-packages\\sklearn\\metrics\\_classification.py:1531: UndefinedMetricWarning: Precision is ill-defined and being set to 0.0 in labels with no predicted samples. Use `zero_division` parameter to control this behavior.\n",
      "  _warn_prf(average, modifier, f\"{metric.capitalize()} is\", len(result))\n"
     ]
    },
    {
     "name": "stdout",
     "output_type": "stream",
     "text": [
      "                  precision    recall  f1-score   support\n",
      "\n",
      "         normal.       1.00      1.00      1.00    194557\n",
      "          satan.       0.97      0.98      0.98      3178\n",
      "        ipsweep.       0.98      0.98      0.98      2496\n",
      "      portsweep.       0.99      0.98      0.98      2083\n",
      "           nmap.       0.89      0.85      0.87       463\n",
      "           back.       0.95      0.97      0.96       441\n",
      "    warezclient.       0.53      0.47      0.50       204\n",
      "       teardrop.       0.99      0.98      0.98       196\n",
      "            pod.       0.71      0.32      0.44        53\n",
      "   guess_passwd.       0.00      0.00      0.00        11\n",
      "buffer_overflow.       0.00      0.00      0.00         6\n",
      "           land.       0.00      0.00      0.00         4\n",
      "    warezmaster.       0.00      0.00      0.00         4\n",
      "           imap.       0.00      0.00      0.00         2\n",
      "        rootkit.       0.00      0.00      0.00         2\n",
      "     loadmodule.       0.00      0.00      0.00         2\n",
      "       multihop.       0.00      0.00      0.00         1\n",
      "      ftp_write.       0.00      0.00      0.00         2\n",
      "            phf.       0.00      0.00      0.00         1\n",
      "           perl.       0.00      0.00      0.00         1\n",
      "            spy.       0.00      0.00      0.00         1\n",
      "\n",
      "        accuracy                           1.00    203708\n",
      "       macro avg       0.38      0.36      0.37    203708\n",
      "    weighted avg       1.00      1.00      1.00    203708\n",
      "\n"
     ]
    }
   ],
   "source": [
    "import pandas as pd\n",
    "from sklearn.metrics import accuracy_score, classification_report\n",
    "\n",
    "from catboost import CatBoostClassifier\n",
    "\n",
    "label_mapping = {\n",
    "    'normal.': 0.0, 'satan.': 1.0, 'ipsweep.': 2.0, 'portsweep.': 3.0, 'nmap.': 4.0,\n",
    "    'back.': 5.0, 'warezclient.': 6.0, 'teardrop.': 7.0, 'pod.': 8.0, 'guess_passwd.': 9.0,\n",
    "    'buffer_overflow.': 10.0, 'land.': 11.0, 'warezmaster.': 12.0, 'imap.': 13.0, 'rootkit.': 14.0,\n",
    "    'loadmodule.': 15.0, 'multihop.': 16.0, 'ftp_write.': 17.0, 'phf.': 18.0, 'perl.': 19.0, 'spy.': 20.0\n",
    "}\n",
    "\n",
    "# Load the training dataset\n",
    "train_data = pd.read_csv(\"kdd_train.csv\")\n",
    "train_data['label'] = train_data['label'].map(label_mapping)  # Convert labels to numeric values\n",
    "train_data = train_data.sample(frac=1).reset_index(drop=True)  # Shuffle\n",
    "\n",
    "# Load the test dataset\n",
    "test_data = pd.read_csv(\"kdd_test.csv\")\n",
    "test_data['label'] = test_data['label'].map(label_mapping)  # Convert labels to numeric values\n",
    "test_data = test_data.sample(frac=1).reset_index(drop=True)  # Shuffle\n",
    "\n",
    "# Split features and labels\n",
    "train_y = train_data['label']\n",
    "train_X = train_data.drop(['label'], axis=1)\n",
    "\n",
    "test_y = test_data['label']\n",
    "test_X = test_data.drop(['label'], axis=1)\n",
    "\n",
    "model = CatBoostClassifier(learning_rate=1, depth=6)\n",
    "fit_model = model.fit(X=train_X, y=train_y, verbose=False)\n",
    "\n",
    "test_predictions = fit_model.predict(test_data)\n",
    "\n",
    "# Calculate accuracy\n",
    "accuracy = accuracy_score(test_y, test_predictions)\n",
    "print(f\"Test Accuracy: {accuracy:.4f}\")\n",
    "\n",
    "# Classification Report\n",
    "print(\"Classification Report:\")\n",
    "print(classification_report(test_y, test_predictions, target_names=list(label_mapping.keys())))"
   ]
  },
  {
   "cell_type": "markdown",
   "metadata": {},
   "source": [
    "Runtime: 74m 35s"
   ]
  },
  {
   "cell_type": "markdown",
   "metadata": {},
   "source": [
    "# Darknet"
   ]
  },
  {
   "cell_type": "code",
   "execution_count": 4,
   "metadata": {},
   "outputs": [
    {
     "name": "stdout",
     "output_type": "stream",
     "text": [
      "Test Accuracy: 0.9951\n",
      "Classification Report:\n",
      "                         precision    recall  f1-score   support\n",
      "\n",
      "                 Normal       1.00      1.00      1.00     26862\n",
      "Darknet_Audio-Streaming       0.99      0.99      0.99      2657\n",
      "           Darknet_Chat       0.99      0.99      0.99       908\n",
      "  Darknet_File-Transfer       0.98      0.96      0.97       522\n",
      "           Darknet_VOIP       0.96      0.99      0.97       293\n",
      "Darknet_Video-Streaming       0.88      0.91      0.89       269\n",
      "          Darknet_Email       0.97      0.96      0.96       116\n",
      "       Darknet_Browsing       0.80      0.83      0.81        53\n",
      "            Darknet_P2P       0.95      0.86      0.90        44\n",
      "\n",
      "               accuracy                           1.00     31724\n",
      "              macro avg       0.95      0.94      0.94     31724\n",
      "           weighted avg       1.00      1.00      1.00     31724\n",
      "\n"
     ]
    }
   ],
   "source": [
    "import pandas as pd\n",
    "from sklearn.metrics import accuracy_score, classification_report\n",
    "\n",
    "from catboost import CatBoostClassifier\n",
    "\n",
    "# Define label mapping for Darknet dataset labels\n",
    "label_mapping = {\n",
    "    'Normal': 0.0, 'Darknet_Audio-Streaming': 1.0, 'Darknet_Chat': 2.0, 'Darknet_File-Transfer': 3.0, 'Darknet_VOIP': 4.0,\n",
    "    'Darknet_Video-Streaming': 5.0, 'Darknet_Email': 6.0, 'Darknet_Browsing': 7.0, 'Darknet_P2P': 8.0\n",
    "}\n",
    "\n",
    "# Load the training dataset\n",
    "train_data = pd.read_csv(\"darknet_train.csv\")\n",
    "train_data['label'] = train_data['label'].map(label_mapping)  # Convert labels to numeric values\n",
    "train_data = train_data.sample(frac=1).reset_index(drop=True)  # Shuffle\n",
    "\n",
    "# Load the test dataset\n",
    "test_data = pd.read_csv(\"darknet_test.csv\")\n",
    "test_data['label'] = test_data['label'].map(label_mapping)  # Convert labels to numeric values\n",
    "test_data = test_data.sample(frac=1).reset_index(drop=True)  # Shuffle\n",
    "\n",
    "# Split features and labels\n",
    "train_y = train_data['label']\n",
    "train_X = train_data.drop(['label'], axis=1)\n",
    "\n",
    "test_y = test_data['label']\n",
    "test_X = test_data.drop(['label'], axis=1)\n",
    "\n",
    "model = CatBoostClassifier(learning_rate=1, depth=6)\n",
    "fit_model = model.fit(X=train_X, y=train_y, verbose=False)\n",
    "\n",
    "test_predictions = fit_model.predict(test_data)\n",
    "\n",
    "# Calculate accuracy\n",
    "accuracy = accuracy_score(test_y, test_predictions)\n",
    "print(f\"Test Accuracy: {accuracy:.4f}\")\n",
    "\n",
    "# Classification Report\n",
    "print(\"Classification Report:\")\n",
    "print(classification_report(test_y, test_predictions, target_names=list(label_mapping.keys())))"
   ]
  },
  {
   "cell_type": "markdown",
   "metadata": {},
   "source": [
    "Runtime: 4m"
   ]
  }
 ],
 "metadata": {
  "kernelspec": {
   "display_name": ".venv",
   "language": "python",
   "name": "python3"
  },
  "language_info": {
   "codemirror_mode": {
    "name": "ipython",
    "version": 3
   },
   "file_extension": ".py",
   "mimetype": "text/x-python",
   "name": "python",
   "nbconvert_exporter": "python",
   "pygments_lexer": "ipython3",
   "version": "3.12.3"
  }
 },
 "nbformat": 4,
 "nbformat_minor": 2
}
