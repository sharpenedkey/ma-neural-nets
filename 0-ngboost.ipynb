{
 "cells": [
  {
   "cell_type": "markdown",
   "metadata": {},
   "source": [
    "# Shuttle"
   ]
  },
  {
   "cell_type": "code",
   "execution_count": 11,
   "metadata": {},
   "outputs": [
    {
     "name": "stderr",
     "output_type": "stream",
     "text": [
      "d:\\Uni Things\\Masterarbeit\\NNs\\.venv\\Lib\\site-packages\\ngboost\\distns\\categorical.py:12: RuntimeWarning: divide by zero encountered in log\n",
      "  return -np.log(self.probs[Y, range(len(Y))])\n",
      "d:\\Uni Things\\Masterarbeit\\NNs\\.venv\\Lib\\site-packages\\ngboost\\distns\\categorical.py:12: RuntimeWarning: divide by zero encountered in log\n",
      "  return -np.log(self.probs[Y, range(len(Y))])\n",
      "d:\\Uni Things\\Masterarbeit\\NNs\\.venv\\Lib\\site-packages\\ngboost\\distns\\categorical.py:12: RuntimeWarning: divide by zero encountered in log\n",
      "  return -np.log(self.probs[Y, range(len(Y))])\n"
     ]
    },
    {
     "name": "stdout",
     "output_type": "stream",
     "text": [
      "Test Accuracy: 0.9997\n",
      "Classification Report:\n",
      "              precision    recall  f1-score   support\n",
      "\n",
      "     Class 1       1.00      1.00      1.00      9117\n",
      "     Class 2       1.00      1.00      1.00        10\n",
      "     Class 3       0.97      1.00      0.99        34\n",
      "     Class 4       1.00      1.00      1.00      1781\n",
      "     Class 5       1.00      1.00      1.00       653\n",
      "     Class 6       1.00      1.00      1.00         2\n",
      "     Class 7       1.00      1.00      1.00         3\n",
      "\n",
      "    accuracy                           1.00     11600\n",
      "   macro avg       1.00      1.00      1.00     11600\n",
      "weighted avg       1.00      1.00      1.00     11600\n",
      "\n"
     ]
    }
   ],
   "source": [
    "import pandas as pd\n",
    "from sklearn.metrics import accuracy_score, classification_report\n",
    "\n",
    "from ngboost import NGBClassifier\n",
    "from ngboost.distns import k_categorical\n",
    "\n",
    "# Load the training dataset\n",
    "train_data = pd.read_csv(\"shuttle_train.csv\")\n",
    "train_data['label'] = train_data['label'] - 1  # Subtract 1 to make labels zero-based\n",
    "train_data = train_data.sample(frac=1).reset_index(drop=True)  # Shuffle\n",
    "\n",
    "# Load the test dataset\n",
    "test_data = pd.read_csv(\"shuttle_test.csv\")\n",
    "test_data['label'] = test_data['label'] - 1  # Subtract 1 to make labels zero-based\n",
    "test_data = test_data.sample(frac=1).reset_index(drop=True)  # Shuffle\n",
    "\n",
    "# Split features and labels\n",
    "train_y = train_data['label']\n",
    "train_X = train_data.drop(['label'], axis=1)\n",
    "\n",
    "test_y = test_data['label']\n",
    "test_X = test_data.drop(['label'], axis=1)\n",
    "\n",
    "model = NGBClassifier(Dist=k_categorical(7), verbose=False)\n",
    "fit_model = model.fit(train_X, train_y)\n",
    "\n",
    "test_predictions = fit_model.predict(test_X)\n",
    "\n",
    "# Calculate accuracy\n",
    "accuracy = accuracy_score(test_y, test_predictions)\n",
    "print(f\"Test Accuracy: {accuracy:.4f}\")\n",
    "\n",
    "# Classification Report\n",
    "print(\"Classification Report:\")\n",
    "print(classification_report(test_y, test_predictions, target_names=[f\"Class {i+1}\" for i in range(len(train_y.unique()))]))"
   ]
  },
  {
   "cell_type": "markdown",
   "metadata": {},
   "source": [
    "Runtime: 4m 12s"
   ]
  },
  {
   "cell_type": "markdown",
   "metadata": {},
   "source": [
    "# Covertype"
   ]
  },
  {
   "cell_type": "code",
   "execution_count": 12,
   "metadata": {},
   "outputs": [
    {
     "name": "stdout",
     "output_type": "stream",
     "text": [
      "Test Accuracy: 0.7195\n",
      "Classification Report:\n",
      "              precision    recall  f1-score   support\n",
      "\n",
      "     Class 1       0.70      0.73      0.71     42368\n",
      "     Class 2       0.75      0.80      0.77     56661\n",
      "     Class 3       0.61      0.81      0.69      7151\n",
      "     Class 4       0.63      0.38      0.47       549\n",
      "     Class 5       0.00      0.00      0.00      1899\n",
      "     Class 6       0.41      0.03      0.05      3473\n",
      "     Class 7       0.88      0.38      0.53      4102\n",
      "\n",
      "    accuracy                           0.72    116203\n",
      "   macro avg       0.57      0.45      0.46    116203\n",
      "weighted avg       0.70      0.72      0.70    116203\n",
      "\n"
     ]
    }
   ],
   "source": [
    "import pandas as pd\n",
    "from sklearn.metrics import accuracy_score, classification_report\n",
    "\n",
    "from ngboost import NGBClassifier\n",
    "from ngboost.distns import k_categorical\n",
    "\n",
    "# Load the training dataset\n",
    "train_data = pd.read_csv(\"covtype_train.csv\")\n",
    "train_data['label'] = train_data['label'] - 1  # Subtract 1 to make labels zero-based\n",
    "train_data = train_data.sample(frac=1).reset_index(drop=True)  # Shuffle\n",
    "\n",
    "# Load the test dataset\n",
    "test_data = pd.read_csv(\"covtype_test.csv\")\n",
    "test_data['label'] = test_data['label'] - 1  # Subtract 1 to make labels zero-based\n",
    "test_data = test_data.sample(frac=1).reset_index(drop=True)  # Shuffle\n",
    "\n",
    "# Split features and labels\n",
    "train_y = train_data['label']\n",
    "train_X = train_data.drop(['label'], axis=1)\n",
    "\n",
    "test_y = test_data['label']\n",
    "test_X = test_data.drop(['label'], axis=1)\n",
    "\n",
    "model = NGBClassifier(Dist=k_categorical(7), verbose=False)\n",
    "fit_model = model.fit(train_X, train_y)\n",
    "\n",
    "test_predictions = fit_model.predict(test_X)\n",
    "\n",
    "# Calculate accuracy\n",
    "accuracy = accuracy_score(test_y, test_predictions)\n",
    "print(f\"Test Accuracy: {accuracy:.4f}\")\n",
    "\n",
    "# Classification Report\n",
    "print(\"Classification Report:\")\n",
    "print(classification_report(test_y, test_predictions, target_names=[f\"Class {i+1}\" for i in range(len(train_y.unique()))]))"
   ]
  },
  {
   "cell_type": "markdown",
   "metadata": {},
   "source": [
    "Runtime: 113m 34s"
   ]
  },
  {
   "cell_type": "markdown",
   "metadata": {},
   "source": [
    "# KDD"
   ]
  },
  {
   "cell_type": "code",
   "execution_count": 1,
   "metadata": {},
   "outputs": [
    {
     "name": "stderr",
     "output_type": "stream",
     "text": [
      "d:\\Uni Things\\Masterarbeit\\NNs\\.venv\\Lib\\site-packages\\ngboost\\distns\\categorical.py:12: RuntimeWarning: divide by zero encountered in log\n",
      "  return -np.log(self.probs[Y, range(len(Y))])\n",
      "d:\\Uni Things\\Masterarbeit\\NNs\\.venv\\Lib\\site-packages\\ngboost\\distns\\categorical.py:12: RuntimeWarning: divide by zero encountered in log\n",
      "  return -np.log(self.probs[Y, range(len(Y))])\n",
      "d:\\Uni Things\\Masterarbeit\\NNs\\.venv\\Lib\\site-packages\\ngboost\\distns\\categorical.py:12: RuntimeWarning: divide by zero encountered in log\n",
      "  return -np.log(self.probs[Y, range(len(Y))])\n",
      "d:\\Uni Things\\Masterarbeit\\NNs\\.venv\\Lib\\site-packages\\ngboost\\distns\\categorical.py:12: RuntimeWarning: divide by zero encountered in log\n",
      "  return -np.log(self.probs[Y, range(len(Y))])\n",
      "d:\\Uni Things\\Masterarbeit\\NNs\\.venv\\Lib\\site-packages\\ngboost\\distns\\categorical.py:12: RuntimeWarning: divide by zero encountered in log\n",
      "  return -np.log(self.probs[Y, range(len(Y))])\n",
      "d:\\Uni Things\\Masterarbeit\\NNs\\.venv\\Lib\\site-packages\\ngboost\\distns\\categorical.py:12: RuntimeWarning: divide by zero encountered in log\n",
      "  return -np.log(self.probs[Y, range(len(Y))])\n",
      "d:\\Uni Things\\Masterarbeit\\NNs\\.venv\\Lib\\site-packages\\ngboost\\distns\\categorical.py:12: RuntimeWarning: divide by zero encountered in log\n",
      "  return -np.log(self.probs[Y, range(len(Y))])\n",
      "d:\\Uni Things\\Masterarbeit\\NNs\\.venv\\Lib\\site-packages\\ngboost\\distns\\categorical.py:12: RuntimeWarning: divide by zero encountered in log\n",
      "  return -np.log(self.probs[Y, range(len(Y))])\n",
      "d:\\Uni Things\\Masterarbeit\\NNs\\.venv\\Lib\\site-packages\\ngboost\\distns\\categorical.py:12: RuntimeWarning: divide by zero encountered in log\n",
      "  return -np.log(self.probs[Y, range(len(Y))])\n",
      "d:\\Uni Things\\Masterarbeit\\NNs\\.venv\\Lib\\site-packages\\ngboost\\distns\\categorical.py:12: RuntimeWarning: divide by zero encountered in log\n",
      "  return -np.log(self.probs[Y, range(len(Y))])\n",
      "d:\\Uni Things\\Masterarbeit\\NNs\\.venv\\Lib\\site-packages\\ngboost\\distns\\categorical.py:12: RuntimeWarning: divide by zero encountered in log\n",
      "  return -np.log(self.probs[Y, range(len(Y))])\n",
      "d:\\Uni Things\\Masterarbeit\\NNs\\.venv\\Lib\\site-packages\\ngboost\\distns\\categorical.py:12: RuntimeWarning: divide by zero encountered in log\n",
      "  return -np.log(self.probs[Y, range(len(Y))])\n",
      "d:\\Uni Things\\Masterarbeit\\NNs\\.venv\\Lib\\site-packages\\ngboost\\distns\\categorical.py:12: RuntimeWarning: divide by zero encountered in log\n",
      "  return -np.log(self.probs[Y, range(len(Y))])\n"
     ]
    },
    {
     "name": "stdout",
     "output_type": "stream",
     "text": [
      "Test Accuracy: 0.9955\n",
      "Classification Report:\n",
      "                  precision    recall  f1-score   support\n",
      "\n",
      "         normal.       1.00      1.00      1.00    194557\n",
      "          satan.       1.00      0.94      0.97      3178\n",
      "        ipsweep.       0.99      0.90      0.94      2496\n",
      "      portsweep.       1.00      0.93      0.96      2083\n",
      "           nmap.       0.98      0.85      0.91       463\n",
      "           back.       1.00      0.98      0.99       441\n",
      "    warezclient.       0.98      0.28      0.44       204\n",
      "       teardrop.       1.00      0.99      1.00       196\n",
      "            pod.       1.00      0.02      0.04        53\n",
      "   guess_passwd.       1.00      0.09      0.17        11\n",
      "buffer_overflow.       1.00      0.50      0.67         6\n",
      "           land.       0.00      0.00      0.00         4\n",
      "    warezmaster.       0.00      0.00      0.00         4\n",
      "           imap.       0.00      0.00      0.00         2\n",
      "        rootkit.       0.00      0.00      0.00         2\n",
      "     loadmodule.       0.00      0.00      0.00         2\n",
      "       multihop.       0.00      0.00      0.00         1\n",
      "      ftp_write.       0.00      0.00      0.00         2\n",
      "            phf.       1.00      1.00      1.00         1\n",
      "           perl.       1.00      1.00      1.00         1\n",
      "            spy.       0.00      0.00      0.00         1\n",
      "\n",
      "        accuracy                           1.00    203708\n",
      "       macro avg       0.62      0.45      0.48    203708\n",
      "    weighted avg       1.00      1.00      1.00    203708\n",
      "\n"
     ]
    },
    {
     "name": "stderr",
     "output_type": "stream",
     "text": [
      "d:\\Uni Things\\Masterarbeit\\NNs\\.venv\\Lib\\site-packages\\sklearn\\metrics\\_classification.py:1531: UndefinedMetricWarning: Precision is ill-defined and being set to 0.0 in labels with no predicted samples. Use `zero_division` parameter to control this behavior.\n",
      "  _warn_prf(average, modifier, f\"{metric.capitalize()} is\", len(result))\n",
      "d:\\Uni Things\\Masterarbeit\\NNs\\.venv\\Lib\\site-packages\\sklearn\\metrics\\_classification.py:1531: UndefinedMetricWarning: Precision is ill-defined and being set to 0.0 in labels with no predicted samples. Use `zero_division` parameter to control this behavior.\n",
      "  _warn_prf(average, modifier, f\"{metric.capitalize()} is\", len(result))\n",
      "d:\\Uni Things\\Masterarbeit\\NNs\\.venv\\Lib\\site-packages\\sklearn\\metrics\\_classification.py:1531: UndefinedMetricWarning: Precision is ill-defined and being set to 0.0 in labels with no predicted samples. Use `zero_division` parameter to control this behavior.\n",
      "  _warn_prf(average, modifier, f\"{metric.capitalize()} is\", len(result))\n"
     ]
    }
   ],
   "source": [
    "import pandas as pd\n",
    "from sklearn.metrics import accuracy_score, classification_report\n",
    "\n",
    "from ngboost import NGBClassifier\n",
    "from ngboost.distns import k_categorical\n",
    "\n",
    "# Define label mapping for KDD dataset labels\n",
    "label_mapping = {\n",
    "    'normal.': 0, 'satan.': 1, 'ipsweep.': 2, 'portsweep.': 3, 'nmap.': 4,\n",
    "    'back.': 5, 'warezclient.': 6, 'teardrop.': 7, 'pod.': 8, 'guess_passwd.': 9,\n",
    "    'buffer_overflow.': 10, 'land.': 11, 'warezmaster.': 12, 'imap.': 13, 'rootkit.': 14,\n",
    "    'loadmodule.': 15, 'multihop.': 16, 'ftp_write.': 17, 'phf.': 18, 'perl.': 19, 'spy.': 20\n",
    "}\n",
    "\n",
    "# Load the training dataset\n",
    "train_data = pd.read_csv(\"kdd_train.csv\")\n",
    "train_data['label'] = train_data['label'].map(label_mapping)  # Convert labels to numeric values\n",
    "train_data = train_data.sample(frac=1).reset_index(drop=True)  # Shuffle\n",
    "\n",
    "# Load the test dataset\n",
    "test_data = pd.read_csv(\"kdd_test.csv\")\n",
    "test_data['label'] = test_data['label'].map(label_mapping)  # Convert labels to numeric values\n",
    "test_data = test_data.sample(frac=1).reset_index(drop=True)  # Shuffle\n",
    "\n",
    "# Split features and labels\n",
    "train_y = train_data['label']\n",
    "train_X = train_data.drop(['label'], axis=1)\n",
    "\n",
    "test_y = test_data['label']\n",
    "test_X = test_data.drop(['label'], axis=1)\n",
    "\n",
    "# Convert to DMatrix objects for XGBoost\n",
    "model = NGBClassifier(Dist=k_categorical(21), verbose=False)\n",
    "fit_model = model.fit(train_X, train_y)\n",
    "\n",
    "# Make predictions on the test data\n",
    "test_predictions = fit_model.predict(test_X)\n",
    "\n",
    "# Calculate accuracy\n",
    "accuracy = accuracy_score(test_y, test_predictions)\n",
    "print(f\"Test Accuracy: {accuracy:.4f}\")\n",
    "\n",
    "# Detailed classification report\n",
    "print(\"Classification Report:\")\n",
    "print(classification_report(test_y, test_predictions, target_names=list(label_mapping.keys())))\n"
   ]
  },
  {
   "cell_type": "markdown",
   "metadata": {},
   "source": [
    "Runtime: 1316m 9s"
   ]
  },
  {
   "cell_type": "markdown",
   "metadata": {},
   "source": [
    "# Darknet"
   ]
  },
  {
   "cell_type": "code",
   "execution_count": 10,
   "metadata": {},
   "outputs": [
    {
     "name": "stderr",
     "output_type": "stream",
     "text": [
      "d:\\Uni Things\\Masterarbeit\\NNs\\.venv\\Lib\\site-packages\\ngboost\\distns\\categorical.py:12: RuntimeWarning: divide by zero encountered in log\n",
      "  return -np.log(self.probs[Y, range(len(Y))])\n"
     ]
    },
    {
     "name": "stdout",
     "output_type": "stream",
     "text": [
      "Test Accuracy: 0.9845\n",
      "Classification Report:\n",
      "                         precision    recall  f1-score   support\n",
      "\n",
      "                 Normal       0.99      1.00      0.99     26862\n",
      "Darknet_Audio-Streaming       0.98      0.96      0.97      2657\n",
      "           Darknet_Chat       0.98      0.99      0.98       908\n",
      "  Darknet_File-Transfer       0.94      0.73      0.82       522\n",
      "           Darknet_VOIP       0.99      0.96      0.97       293\n",
      "Darknet_Video-Streaming       0.81      0.67      0.73       269\n",
      "          Darknet_Email       0.00      0.00      0.00       116\n",
      "       Darknet_Browsing       0.90      0.68      0.77        53\n",
      "            Darknet_P2P       0.98      0.91      0.94        44\n",
      "\n",
      "               accuracy                           0.98     31724\n",
      "              macro avg       0.84      0.77      0.80     31724\n",
      "           weighted avg       0.98      0.98      0.98     31724\n",
      "\n"
     ]
    },
    {
     "name": "stderr",
     "output_type": "stream",
     "text": [
      "d:\\Uni Things\\Masterarbeit\\NNs\\.venv\\Lib\\site-packages\\sklearn\\metrics\\_classification.py:1531: UndefinedMetricWarning: Precision is ill-defined and being set to 0.0 in labels with no predicted samples. Use `zero_division` parameter to control this behavior.\n",
      "  _warn_prf(average, modifier, f\"{metric.capitalize()} is\", len(result))\n",
      "d:\\Uni Things\\Masterarbeit\\NNs\\.venv\\Lib\\site-packages\\sklearn\\metrics\\_classification.py:1531: UndefinedMetricWarning: Precision is ill-defined and being set to 0.0 in labels with no predicted samples. Use `zero_division` parameter to control this behavior.\n",
      "  _warn_prf(average, modifier, f\"{metric.capitalize()} is\", len(result))\n",
      "d:\\Uni Things\\Masterarbeit\\NNs\\.venv\\Lib\\site-packages\\sklearn\\metrics\\_classification.py:1531: UndefinedMetricWarning: Precision is ill-defined and being set to 0.0 in labels with no predicted samples. Use `zero_division` parameter to control this behavior.\n",
      "  _warn_prf(average, modifier, f\"{metric.capitalize()} is\", len(result))\n"
     ]
    }
   ],
   "source": [
    "import pandas as pd\n",
    "from sklearn.metrics import accuracy_score, classification_report\n",
    "\n",
    "from ngboost import NGBClassifier\n",
    "from ngboost.distns import k_categorical\n",
    "\n",
    "# Define label mapping for Darknet dataset labels\n",
    "label_mapping = {\n",
    "    'Normal': 0, 'Darknet_Audio-Streaming': 1, 'Darknet_Chat': 2, 'Darknet_File-Transfer': 3, 'Darknet_VOIP': 4,\n",
    "    'Darknet_Video-Streaming': 5, 'Darknet_Email': 6, 'Darknet_Browsing': 7, 'Darknet_P2P': 8\n",
    "}\n",
    "\n",
    "# Load the training dataset\n",
    "train_data = pd.read_csv(\"darknet_train.csv\")\n",
    "train_data['label'] = train_data['label'].map(label_mapping)  # Convert labels to numeric values\n",
    "train_data = train_data.sample(frac=1).reset_index(drop=True)  # Shuffle\n",
    "\n",
    "# Load the test dataset\n",
    "test_data = pd.read_csv(\"darknet_test.csv\")\n",
    "test_data['label'] = test_data['label'].map(label_mapping)  # Convert labels to numeric values\n",
    "test_data = test_data.sample(frac=1).reset_index(drop=True)  # Shuffle\n",
    "\n",
    "# Split features and labels\n",
    "train_y = train_data['label']\n",
    "train_X = train_data.drop(['label'], axis=1)\n",
    "\n",
    "test_y = test_data['label']\n",
    "test_X = test_data.drop(['label'], axis=1)\n",
    "\n",
    "# Convert to DMatrix objects for XGBoost\n",
    "model = NGBClassifier(Dist=k_categorical(9), verbose=False)\n",
    "fit_model = model.fit(train_X, train_y)\n",
    "\n",
    "# Make predictions on the test data\n",
    "test_predictions = fit_model.predict(test_X)\n",
    "\n",
    "# Calculate accuracy\n",
    "accuracy = accuracy_score(test_y, test_predictions)\n",
    "print(f\"Test Accuracy: {accuracy:.4f}\")\n",
    "\n",
    "# Detailed classification report\n",
    "print(\"Classification Report:\")\n",
    "print(classification_report(test_y, test_predictions, target_names=list(label_mapping.keys())))\n"
   ]
  },
  {
   "cell_type": "markdown",
   "metadata": {},
   "source": [
    "Runtime: 120m 17s"
   ]
  }
 ],
 "metadata": {
  "kernelspec": {
   "display_name": ".venv",
   "language": "python",
   "name": "python3"
  },
  "language_info": {
   "codemirror_mode": {
    "name": "ipython",
    "version": 3
   },
   "file_extension": ".py",
   "mimetype": "text/x-python",
   "name": "python",
   "nbconvert_exporter": "python",
   "pygments_lexer": "ipython3",
   "version": "3.12.3"
  }
 },
 "nbformat": 4,
 "nbformat_minor": 2
}
