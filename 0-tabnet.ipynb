{
 "cells": [
  {
   "cell_type": "markdown",
   "metadata": {},
   "source": [
    "# Shuttle"
   ]
  },
  {
   "cell_type": "code",
   "execution_count": 4,
   "metadata": {},
   "outputs": [
    {
     "name": "stderr",
     "output_type": "stream",
     "text": [
      "d:\\Uni Things\\Masterarbeit\\NNs\\.venv\\Lib\\site-packages\\pytorch_tabnet\\abstract_model.py:687: UserWarning: No early stopping will be performed, last training weights will be used.\n",
      "  warnings.warn(wrn_msg)\n"
     ]
    },
    {
     "name": "stdout",
     "output_type": "stream",
     "text": [
      "Test Accuracy: 0.9972\n",
      "Classification Report:\n",
      "              precision    recall  f1-score   support\n",
      "\n",
      "           1       1.00      1.00      1.00      9117\n",
      "           2       1.00      0.70      0.82        10\n",
      "           3       0.77      0.29      0.43        34\n",
      "           4       1.00      1.00      1.00      1781\n",
      "           5       0.99      1.00      1.00       653\n",
      "           6       1.00      0.50      0.67         2\n",
      "           7       0.00      0.00      0.00         3\n",
      "\n",
      "    accuracy                           1.00     11600\n",
      "   macro avg       0.82      0.64      0.70     11600\n",
      "weighted avg       1.00      1.00      1.00     11600\n",
      "\n"
     ]
    },
    {
     "name": "stderr",
     "output_type": "stream",
     "text": [
      "d:\\Uni Things\\Masterarbeit\\NNs\\.venv\\Lib\\site-packages\\sklearn\\metrics\\_classification.py:1531: UndefinedMetricWarning: Precision is ill-defined and being set to 0.0 in labels with no predicted samples. Use `zero_division` parameter to control this behavior.\n",
      "  _warn_prf(average, modifier, f\"{metric.capitalize()} is\", len(result))\n",
      "d:\\Uni Things\\Masterarbeit\\NNs\\.venv\\Lib\\site-packages\\sklearn\\metrics\\_classification.py:1531: UndefinedMetricWarning: Precision is ill-defined and being set to 0.0 in labels with no predicted samples. Use `zero_division` parameter to control this behavior.\n",
      "  _warn_prf(average, modifier, f\"{metric.capitalize()} is\", len(result))\n",
      "d:\\Uni Things\\Masterarbeit\\NNs\\.venv\\Lib\\site-packages\\sklearn\\metrics\\_classification.py:1531: UndefinedMetricWarning: Precision is ill-defined and being set to 0.0 in labels with no predicted samples. Use `zero_division` parameter to control this behavior.\n",
      "  _warn_prf(average, modifier, f\"{metric.capitalize()} is\", len(result))\n"
     ]
    }
   ],
   "source": [
    "import pandas as pd\n",
    "from sklearn.metrics import accuracy_score, classification_report\n",
    "\n",
    "from pytorch_tabnet.tab_model import TabNetClassifier\n",
    "\n",
    "# Load the training dataset\n",
    "train_data = pd.read_csv(\"shuttle_train.csv\")\n",
    "train_data = train_data.sample(frac=1).reset_index(drop=True)  # Shuffle\n",
    "\n",
    "# Load the test dataset\n",
    "test_data = pd.read_csv(\"shuttle_test.csv\")\n",
    "test_data = test_data.sample(frac=1).reset_index(drop=True)  # Shuffle\n",
    "\n",
    "# Split features and labels\n",
    "train_y = train_data['label'].values\n",
    "train_X = train_data.drop(['label'], axis=1).values\n",
    "\n",
    "test_y = test_data['label'].values\n",
    "test_X = test_data.drop(['label'], axis=1).values\n",
    "\n",
    "clf = TabNetClassifier(verbose=0)\n",
    "clf.fit(train_X, train_y)\n",
    "\n",
    "test_predictions = clf.predict(test_X)\n",
    "\n",
    "# Calculate accuracy\n",
    "accuracy = accuracy_score(test_y, test_predictions)\n",
    "print(f\"Test Accuracy: {accuracy:.4f}\")\n",
    "\n",
    "# Classification Report\n",
    "print(\"Classification Report:\")\n",
    "print(classification_report(test_y, test_predictions))"
   ]
  },
  {
   "cell_type": "markdown",
   "metadata": {},
   "source": [
    "Runtime: 5m 31s"
   ]
  },
  {
   "cell_type": "markdown",
   "metadata": {},
   "source": [
    "# Covertype"
   ]
  },
  {
   "cell_type": "code",
   "execution_count": 5,
   "metadata": {},
   "outputs": [
    {
     "name": "stderr",
     "output_type": "stream",
     "text": [
      "d:\\Uni Things\\Masterarbeit\\NNs\\.venv\\Lib\\site-packages\\pytorch_tabnet\\abstract_model.py:687: UserWarning: No early stopping will be performed, last training weights will be used.\n",
      "  warnings.warn(wrn_msg)\n"
     ]
    },
    {
     "name": "stdout",
     "output_type": "stream",
     "text": [
      "Test Accuracy: 0.8636\n",
      "Classification Report:\n",
      "              precision    recall  f1-score   support\n",
      "\n",
      "           1       0.91      0.82      0.86     42368\n",
      "           2       0.85      0.93      0.89     56661\n",
      "           3       0.82      0.84      0.83      7151\n",
      "           4       0.79      0.65      0.71       549\n",
      "           5       0.76      0.49      0.60      1899\n",
      "           6       0.70      0.63      0.66      3473\n",
      "           7       0.91      0.85      0.88      4102\n",
      "\n",
      "    accuracy                           0.86    116203\n",
      "   macro avg       0.82      0.74      0.77    116203\n",
      "weighted avg       0.86      0.86      0.86    116203\n",
      "\n"
     ]
    }
   ],
   "source": [
    "import pandas as pd\n",
    "from sklearn.metrics import accuracy_score, classification_report\n",
    "\n",
    "from pytorch_tabnet.tab_model import TabNetClassifier\n",
    "\n",
    "# Load the training dataset\n",
    "train_data = pd.read_csv(\"covtype_train.csv\")\n",
    "train_data = train_data.sample(frac=1).reset_index(drop=True)  # Shuffle\n",
    "\n",
    "# Load the test dataset\n",
    "test_data = pd.read_csv(\"covtype_test.csv\")\n",
    "test_data = test_data.sample(frac=1).reset_index(drop=True)  # Shuffle\n",
    "\n",
    "# Split features and labels\n",
    "train_y = train_data['label'].values\n",
    "train_X = train_data.drop(['label'], axis=1).values\n",
    "\n",
    "test_y = test_data['label'].values\n",
    "test_X = test_data.drop(['label'], axis=1).values\n",
    "\n",
    "clf = TabNetClassifier(verbose=0)\n",
    "clf.fit(train_X, train_y)\n",
    "\n",
    "test_predictions = clf.predict(test_X)\n",
    "\n",
    "# Calculate accuracy\n",
    "accuracy = accuracy_score(test_y, test_predictions)\n",
    "print(f\"Test Accuracy: {accuracy:.4f}\")\n",
    "\n",
    "# Classification Report\n",
    "print(\"Classification Report:\")\n",
    "print(classification_report(test_y, test_predictions))"
   ]
  },
  {
   "cell_type": "markdown",
   "metadata": {},
   "source": [
    "Runtime: 59m 37s"
   ]
  },
  {
   "cell_type": "markdown",
   "metadata": {},
   "source": [
    "# KDD"
   ]
  },
  {
   "cell_type": "code",
   "execution_count": 6,
   "metadata": {},
   "outputs": [
    {
     "name": "stderr",
     "output_type": "stream",
     "text": [
      "d:\\Uni Things\\Masterarbeit\\NNs\\.venv\\Lib\\site-packages\\pytorch_tabnet\\abstract_model.py:687: UserWarning: No early stopping will be performed, last training weights will be used.\n",
      "  warnings.warn(wrn_msg)\n"
     ]
    },
    {
     "name": "stdout",
     "output_type": "stream",
     "text": [
      "Test Accuracy: 0.9966\n",
      "Classification Report:\n"
     ]
    },
    {
     "name": "stderr",
     "output_type": "stream",
     "text": [
      "d:\\Uni Things\\Masterarbeit\\NNs\\.venv\\Lib\\site-packages\\sklearn\\metrics\\_classification.py:1531: UndefinedMetricWarning: Precision is ill-defined and being set to 0.0 in labels with no predicted samples. Use `zero_division` parameter to control this behavior.\n",
      "  _warn_prf(average, modifier, f\"{metric.capitalize()} is\", len(result))\n",
      "d:\\Uni Things\\Masterarbeit\\NNs\\.venv\\Lib\\site-packages\\sklearn\\metrics\\_classification.py:1531: UndefinedMetricWarning: Precision is ill-defined and being set to 0.0 in labels with no predicted samples. Use `zero_division` parameter to control this behavior.\n",
      "  _warn_prf(average, modifier, f\"{metric.capitalize()} is\", len(result))\n"
     ]
    },
    {
     "name": "stdout",
     "output_type": "stream",
     "text": [
      "                  precision    recall  f1-score   support\n",
      "\n",
      "           back.       0.74      0.03      0.06       441\n",
      "buffer_overflow.       0.00      0.00      0.00         6\n",
      "      ftp_write.       0.00      0.00      0.00         2\n",
      "   guess_passwd.       1.00      0.91      0.95        11\n",
      "           imap.       0.50      0.50      0.50         2\n",
      "        ipsweep.       0.99      0.99      0.99      2496\n",
      "           land.       0.00      0.00      0.00         4\n",
      "     loadmodule.       0.00      0.00      0.00         2\n",
      "       multihop.       0.00      0.00      0.00         1\n",
      "           nmap.       0.99      0.92      0.96       463\n",
      "         normal.       1.00      1.00      1.00    194557\n",
      "           perl.       0.00      0.00      0.00         1\n",
      "            phf.       0.00      0.00      0.00         1\n",
      "            pod.       1.00      0.66      0.80        53\n",
      "      portsweep.       1.00      0.98      0.99      2083\n",
      "        rootkit.       0.00      0.00      0.00         2\n",
      "          satan.       1.00      0.99      0.99      3178\n",
      "            spy.       0.00      0.00      0.00         1\n",
      "       teardrop.       0.86      1.00      0.93       196\n",
      "    warezclient.       0.77      0.93      0.84       204\n",
      "    warezmaster.       0.00      0.00      0.00         4\n",
      "\n",
      "        accuracy                           1.00    203708\n",
      "       macro avg       0.47      0.42      0.43    203708\n",
      "    weighted avg       1.00      1.00      1.00    203708\n",
      "\n"
     ]
    },
    {
     "name": "stderr",
     "output_type": "stream",
     "text": [
      "d:\\Uni Things\\Masterarbeit\\NNs\\.venv\\Lib\\site-packages\\sklearn\\metrics\\_classification.py:1531: UndefinedMetricWarning: Precision is ill-defined and being set to 0.0 in labels with no predicted samples. Use `zero_division` parameter to control this behavior.\n",
      "  _warn_prf(average, modifier, f\"{metric.capitalize()} is\", len(result))\n"
     ]
    }
   ],
   "source": [
    "import pandas as pd\n",
    "from sklearn.metrics import accuracy_score, classification_report\n",
    "\n",
    "from pytorch_tabnet.tab_model import TabNetClassifier\n",
    "\n",
    "# Load the training dataset\n",
    "train_data = pd.read_csv(\"kdd_train.csv\")\n",
    "train_data = train_data.sample(frac=1).reset_index(drop=True)  # Shuffle\n",
    "\n",
    "# Load the test dataset\n",
    "test_data = pd.read_csv(\"kdd_test.csv\")\n",
    "test_data = test_data.sample(frac=1).reset_index(drop=True)  # Shuffle\n",
    "\n",
    "# Split features and labels\n",
    "train_y = train_data['label'].values\n",
    "train_X = train_data.drop(['label'], axis=1).values\n",
    "\n",
    "test_y = test_data['label'].values\n",
    "test_X = test_data.drop(['label'], axis=1).values\n",
    "\n",
    "clf = TabNetClassifier(verbose=0)\n",
    "clf.fit(train_X, train_y)\n",
    "\n",
    "test_predictions = clf.predict(test_X)\n",
    "\n",
    "# Calculate accuracy\n",
    "accuracy = accuracy_score(test_y, test_predictions)\n",
    "print(f\"Test Accuracy: {accuracy:.4f}\")\n",
    "\n",
    "# Classification Report\n",
    "print(\"Classification Report:\")\n",
    "print(classification_report(test_y, test_predictions))"
   ]
  },
  {
   "cell_type": "markdown",
   "metadata": {},
   "source": [
    "Runtime: 134m 49s"
   ]
  },
  {
   "cell_type": "markdown",
   "metadata": {},
   "source": [
    "# Darknet"
   ]
  },
  {
   "cell_type": "code",
   "execution_count": 7,
   "metadata": {},
   "outputs": [
    {
     "name": "stderr",
     "output_type": "stream",
     "text": [
      "d:\\Uni Things\\Masterarbeit\\NNs\\.venv\\Lib\\site-packages\\pytorch_tabnet\\abstract_model.py:687: UserWarning: No early stopping will be performed, last training weights will be used.\n",
      "  warnings.warn(wrn_msg)\n"
     ]
    },
    {
     "name": "stdout",
     "output_type": "stream",
     "text": [
      "Test Accuracy: 0.9989\n",
      "Classification Report:\n",
      "                         precision    recall  f1-score   support\n",
      "\n",
      "Darknet_Audio-Streaming       1.00      1.00      1.00      2657\n",
      "       Darknet_Browsing       0.95      0.70      0.80        53\n",
      "           Darknet_Chat       1.00      1.00      1.00       908\n",
      "          Darknet_Email       1.00      0.99      1.00       116\n",
      "  Darknet_File-Transfer       1.00      1.00      1.00       522\n",
      "            Darknet_P2P       1.00      0.98      0.99        44\n",
      "           Darknet_VOIP       0.96      0.98      0.97       293\n",
      "Darknet_Video-Streaming       0.98      1.00      0.99       269\n",
      "                 Normal       1.00      1.00      1.00     26862\n",
      "\n",
      "               accuracy                           1.00     31724\n",
      "              macro avg       0.99      0.96      0.97     31724\n",
      "           weighted avg       1.00      1.00      1.00     31724\n",
      "\n"
     ]
    }
   ],
   "source": [
    "import pandas as pd\n",
    "from sklearn.metrics import accuracy_score, classification_report\n",
    "\n",
    "from pytorch_tabnet.tab_model import TabNetClassifier\n",
    "\n",
    "# Load the training dataset\n",
    "train_data = pd.read_csv(\"darknet_train.csv\")\n",
    "train_data = train_data.sample(frac=1).reset_index(drop=True)  # Shuffle\n",
    "\n",
    "# Load the test dataset\n",
    "test_data = pd.read_csv(\"darknet_test.csv\")\n",
    "test_data = test_data.sample(frac=1).reset_index(drop=True)  # Shuffle\n",
    "\n",
    "# Split features and labels\n",
    "train_y = train_data['label'].values\n",
    "train_X = train_data.drop(['label'], axis=1).values\n",
    "\n",
    "test_y = test_data['label'].values\n",
    "test_X = test_data.drop(['label'], axis=1).values\n",
    "\n",
    "clf = TabNetClassifier(verbose=0)\n",
    "clf.fit(train_X, train_y)\n",
    "\n",
    "test_predictions = clf.predict(test_X)\n",
    "\n",
    "# Calculate accuracy\n",
    "accuracy = accuracy_score(test_y, test_predictions)\n",
    "print(f\"Test Accuracy: {accuracy:.4f}\")\n",
    "\n",
    "# Classification Report\n",
    "print(\"Classification Report:\")\n",
    "print(classification_report(test_y, test_predictions))"
   ]
  },
  {
   "cell_type": "markdown",
   "metadata": {},
   "source": [
    "Runtime: 19m 43s"
   ]
  }
 ],
 "metadata": {
  "kernelspec": {
   "display_name": ".venv",
   "language": "python",
   "name": "python3"
  },
  "language_info": {
   "codemirror_mode": {
    "name": "ipython",
    "version": 3
   },
   "file_extension": ".py",
   "mimetype": "text/x-python",
   "name": "python",
   "nbconvert_exporter": "python",
   "pygments_lexer": "ipython3",
   "version": "3.12.3"
  }
 },
 "nbformat": 4,
 "nbformat_minor": 2
}
