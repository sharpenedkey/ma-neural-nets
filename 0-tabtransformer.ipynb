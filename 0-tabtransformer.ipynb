{
 "cells": [
  {
   "cell_type": "code",
   "execution_count": null,
   "metadata": {},
   "outputs": [],
   "source": [
    "import pandas as pd\n",
    "from sklearn.metrics import accuracy_score, classification_report\n",
    "\n",
    "from tabtransformertf.utils.preprocessing import df_to_dataset, build_categorical_prep\n",
    "\n",
    "# Load the training dataset\n",
    "train_data = pd.read_csv(\"shuttle_train.csv\")\n",
    "train_data = train_data.sample(frac=1).reset_index(drop=True)  # Shuffle\n",
    "\n",
    "# Load the test dataset\n",
    "test_data = pd.read_csv(\"shuttle_test.csv\")\n",
    "test_data = test_data.sample(frac=1).reset_index(drop=True)  # Shuffle\n",
    "\n",
    "# Split features and labels\n",
    "train_y = train_data['label'].values\n",
    "train_X = train_data.drop(['label'], axis=1).values\n",
    "\n",
    "test_y = test_data['label'].values\n",
    "test_X = test_data.drop(['label'], axis=1).values\n",
    "\n",
    "clf = TabNetClassifier()\n",
    "clf.fit(train_X, train_y)\n",
    "\n",
    "test_predictions = clf.predict(test_X)\n",
    "\n",
    "# Calculate accuracy\n",
    "accuracy = accuracy_score(test_y, test_predictions)\n",
    "print(f\"Test Accuracy: {accuracy:.4f}\")\n",
    "\n",
    "# Classification Report\n",
    "print(\"Classification Report:\")\n",
    "print(classification_report(test_y, test_predictions))"
   ]
  }
 ],
 "metadata": {
  "kernelspec": {
   "display_name": ".venv",
   "language": "python",
   "name": "python3"
  },
  "language_info": {
   "codemirror_mode": {
    "name": "ipython",
    "version": 3
   },
   "file_extension": ".py",
   "mimetype": "text/x-python",
   "name": "python",
   "nbconvert_exporter": "python",
   "pygments_lexer": "ipython3",
   "version": "3.12.3"
  }
 },
 "nbformat": 4,
 "nbformat_minor": 2
}
