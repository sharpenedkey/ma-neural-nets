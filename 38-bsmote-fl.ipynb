{
 "cells": [
  {
   "cell_type": "code",
   "execution_count": 1,
   "id": "d63a686c",
   "metadata": {
    "_cell_guid": "b1076dfc-b9ad-4769-8c92-a6c4dae69d19",
    "_uuid": "8f2839f25d086af736a60e9eeb907d3b93b6e0e5",
    "execution": {
     "iopub.execute_input": "2024-12-23T21:35:17.453197Z",
     "iopub.status.busy": "2024-12-23T21:35:17.452832Z",
     "iopub.status.idle": "2024-12-23T21:35:17.458455Z",
     "shell.execute_reply": "2024-12-23T21:35:17.457509Z"
    },
    "papermill": {
     "duration": 0.011515,
     "end_time": "2024-12-23T21:35:17.460236",
     "exception": false,
     "start_time": "2024-12-23T21:35:17.448721",
     "status": "completed"
    },
    "tags": []
   },
   "outputs": [],
   "source": [
    "import warnings\n",
    "warnings.filterwarnings(\"ignore\")"
   ]
  },
  {
   "cell_type": "code",
   "execution_count": 2,
   "id": "c15c08b7",
   "metadata": {
    "execution": {
     "iopub.execute_input": "2024-12-23T21:35:17.466541Z",
     "iopub.status.busy": "2024-12-23T21:35:17.466168Z",
     "iopub.status.idle": "2024-12-23T21:35:28.920689Z",
     "shell.execute_reply": "2024-12-23T21:35:28.919623Z"
    },
    "papermill": {
     "duration": 11.459598,
     "end_time": "2024-12-23T21:35:28.922654",
     "exception": false,
     "start_time": "2024-12-23T21:35:17.463056",
     "status": "completed"
    },
    "tags": []
   },
   "outputs": [],
   "source": [
    "import gc\n",
    "import numpy as np\n",
    "import pandas as pd\n",
    "import tensorflow as tf\n",
    "\n",
    "from collections import defaultdict\n",
    "from sklearn.preprocessing import OneHotEncoder\n",
    "from sklearn.metrics import classification_report, balanced_accuracy_score, roc_auc_score, average_precision_score, fbeta_score, matthews_corrcoef\n",
    "from tensorflow.keras import backend as K\n",
    "from tensorflow.keras.callbacks import EarlyStopping\n",
    "from tensorflow.keras.models import Model\n",
    "from tensorflow.keras.layers import Dense, Dropout, LayerNormalization, Input, Conv1D, Lambda, Flatten\n",
    "from tensorflow.keras.losses import CategoricalFocalCrossentropy"
   ]
  },
  {
   "cell_type": "code",
   "execution_count": 3,
   "id": "5787ea14",
   "metadata": {
    "execution": {
     "iopub.execute_input": "2024-12-23T21:35:28.929423Z",
     "iopub.status.busy": "2024-12-23T21:35:28.928761Z",
     "iopub.status.idle": "2024-12-23T21:35:28.941968Z",
     "shell.execute_reply": "2024-12-23T21:35:28.940895Z"
    },
    "papermill": {
     "duration": 0.018149,
     "end_time": "2024-12-23T21:35:28.943576",
     "exception": false,
     "start_time": "2024-12-23T21:35:28.925427",
     "status": "completed"
    },
    "tags": []
   },
   "outputs": [],
   "source": [
    "def reduce_mem_usage(df):\n",
    "    \"\"\" iterate through all the columns of a dataframe and modify the data type\n",
    "        to reduce memory usage.        \n",
    "    \"\"\"\n",
    "    start_mem = df.memory_usage().sum() / 1024**2\n",
    "    print('Memory usage of dataframe is {:.2f} MB'.format(start_mem))\n",
    "    \n",
    "    for col in df.columns:\n",
    "        col_type = df[col].dtype\n",
    "        \n",
    "        if col_type != object:\n",
    "            c_min = df[col].min()\n",
    "            c_max = df[col].max()\n",
    "            if str(col_type)[:3] == 'int':\n",
    "                if c_min > np.iinfo(np.int8).min and c_max < np.iinfo(np.int8).max:\n",
    "                    df[col] = df[col].astype(np.int8)\n",
    "                elif c_min > np.iinfo(np.int16).min and c_max < np.iinfo(np.int16).max:\n",
    "                    df[col] = df[col].astype(np.int16)\n",
    "                elif c_min > np.iinfo(np.int32).min and c_max < np.iinfo(np.int32).max:\n",
    "                    df[col] = df[col].astype(np.int32)\n",
    "                elif c_min > np.iinfo(np.int64).min and c_max < np.iinfo(np.int64).max:\n",
    "                    df[col] = df[col].astype(np.int64)  \n",
    "            else:\n",
    "                if c_min > np.finfo(np.float16).min and c_max < np.finfo(np.float16).max:\n",
    "                    df[col] = df[col].astype(np.float16)\n",
    "                elif c_min > np.finfo(np.float32).min and c_max < np.finfo(np.float32).max:\n",
    "                    df[col] = df[col].astype(np.float32)\n",
    "                else:\n",
    "                    df[col] = df[col].astype(np.float64)\n",
    "        else:\n",
    "            df[col] = df[col].astype('category')\n",
    "\n",
    "    end_mem = df.memory_usage().sum() / 1024**2\n",
    "    print('Memory usage after optimization is: {:.2f} MB'.format(end_mem))\n",
    "    print('Decreased by {:.1f}%'.format(100 * (start_mem - end_mem) / start_mem))\n",
    "    \n",
    "    return df\n",
    "\n",
    "\n",
    "def import_data(file):\n",
    "    \"\"\"create a dataframe and optimize its memory usage\"\"\"\n",
    "    df = pd.read_csv(file, parse_dates=True, keep_date_col=True)\n",
    "    df = reduce_mem_usage(df)\n",
    "    return df"
   ]
  },
  {
   "cell_type": "code",
   "execution_count": 4,
   "id": "92c7835f",
   "metadata": {
    "execution": {
     "iopub.execute_input": "2024-12-23T21:35:28.949549Z",
     "iopub.status.busy": "2024-12-23T21:35:28.949204Z",
     "iopub.status.idle": "2024-12-23T21:35:28.956612Z",
     "shell.execute_reply": "2024-12-23T21:35:28.955695Z"
    },
    "papermill": {
     "duration": 0.012124,
     "end_time": "2024-12-23T21:35:28.958224",
     "exception": false,
     "start_time": "2024-12-23T21:35:28.946100",
     "status": "completed"
    },
    "tags": []
   },
   "outputs": [],
   "source": [
    "def create_convnext_like_model(input_dim, num_classes, sliding_window_size=3):\n",
    "    # Input layer\n",
    "    input_layer = Input(shape=(input_dim,))\n",
    "    \n",
    "    # Reshape input to be compatible with Conv1D using Lambda layer\n",
    "    reshaped_input = Lambda(lambda x: tf.expand_dims(x, axis=-1))(input_layer)  # Shape: (batch_size, input_dim, 1)\n",
    "    x = reshaped_input\n",
    "    \n",
    "    # Simulate ConvNeXt block using Conv1D layers\n",
    "    x = Conv1D(filters=int(max(16, input_dim * 2)), kernel_size=sliding_window_size, padding='same', activation='gelu', strides=1)(x)\n",
    "    x = LayerNormalization()(x)\n",
    "    x = Conv1D(filters=int(max(16, input_dim)), kernel_size=sliding_window_size, padding='same', activation='gelu', strides=1)(x)\n",
    "    x = LayerNormalization()(x)\n",
    "    x = Conv1D(filters=int(max(16, input_dim // 2)), kernel_size=sliding_window_size, padding='same', activation='gelu', strides=1)(x)\n",
    "    x = LayerNormalization()(x)\n",
    "    x = Conv1D(filters=int(max(16, input_dim // 4)), kernel_size=sliding_window_size, padding='same', activation='gelu', strides=1)(x)\n",
    "    x = LayerNormalization()(x)\n",
    "    x = Conv1D(filters=int(max(16, input_dim // 8)), kernel_size=sliding_window_size, padding='same', activation='gelu', strides=1)(x)\n",
    "    x = LayerNormalization()(x)\n",
    "    \n",
    "    # Flatten the output of the final Conv1D layer\n",
    "    x = Flatten()(x)\n",
    "    \n",
    "    # Global pooling and classification head\n",
    "    x = Dense(128, activation='relu')(x)\n",
    "    x = Dropout(0.2)(x)\n",
    "    output_layer = Dense(num_classes, activation='softmax')(x)\n",
    "    \n",
    "    model = Model(inputs=input_layer, outputs=output_layer)\n",
    "    model.compile(optimizer='adam', loss='categorical_focal_crossentropy', metrics=['accuracy'])\n",
    "    \n",
    "    return model"
   ]
  },
  {
   "cell_type": "code",
   "execution_count": 5,
   "id": "9a0c10cf",
   "metadata": {
    "execution": {
     "iopub.execute_input": "2024-12-23T21:35:28.964338Z",
     "iopub.status.busy": "2024-12-23T21:35:28.963992Z",
     "iopub.status.idle": "2024-12-23T21:35:28.977016Z",
     "shell.execute_reply": "2024-12-23T21:35:28.975993Z"
    },
    "papermill": {
     "duration": 0.017986,
     "end_time": "2024-12-23T21:35:28.978634",
     "exception": false,
     "start_time": "2024-12-23T21:35:28.960648",
     "status": "completed"
    },
    "tags": []
   },
   "outputs": [],
   "source": [
    "def run_model(train_data_path, test_data_path, is_string_labels = False, label_mapping = None):\n",
    "\n",
    "    # Initialize the one-hot encoder for the target\n",
    "    encoder = OneHotEncoder(sparse_output=False)\n",
    "\n",
    "    # Load and Prepare Training Data\n",
    "    train_data = pd.read_csv(train_data_path)\n",
    "    train_data = train_data.sample(frac=1).reset_index(drop=True)  # Shuffle\n",
    "    if (is_string_labels):\n",
    "        train_data['label'] = train_data['label'].map(label_mapping)\n",
    "    train_X = train_data.drop(columns=['label']).values\n",
    "    train_y = train_data['label'].values\n",
    "    train_y = encoder.fit_transform(train_y.reshape(-1, 1))\n",
    "    del train_data\n",
    "    gc.collect()\n",
    "\n",
    "    # Load and Prepare Test Data (this will not be used in training)\n",
    "    test_data = pd.read_csv(test_data_path)\n",
    "    test_data = test_data.sample(frac=1).reset_index(drop=True)  # Shuffle\n",
    "    if (is_string_labels):\n",
    "        test_data['label'] = test_data['label'].map(label_mapping)\n",
    "    test_X = test_data.drop(columns=['label']).values\n",
    "    test_y = test_data['label'].values\n",
    "    test_y = encoder.transform(test_y.reshape(-1, 1))\n",
    "    del test_data\n",
    "    gc.collect()\n",
    "\n",
    "    # EarlyStopping Callback (optional, to avoid overfitting)\n",
    "    early_stopping = EarlyStopping(monitor='loss', patience=10, restore_best_weights=True)\n",
    "\n",
    "    # Number of runs for averaging results\n",
    "    num_runs = 50\n",
    "\n",
    "    # Initialize storage for metrics\n",
    "    metrics_storage = defaultdict(list)\n",
    "\n",
    "    # Train the Model with Validation Split N tines for more accurate metrics\n",
    "    #print(\"Verbose output only for first run...\")\n",
    "    verbose_run = 0\n",
    "    for run in range(num_runs):\n",
    "        \n",
    "        # Model is defined separately in each run, since the random combination layers\n",
    "        # must be randomly initialized each time. Otherwise, the \"random\" indices stay the same\n",
    "        # throughout all runs\n",
    "        model = create_convnext_like_model(train_X.shape[1], test_y.shape[1])\n",
    "\n",
    "        print(f\"Run {run + 1}/{num_runs} started...\")\n",
    "        history = model.fit(\n",
    "            train_X, train_y, \n",
    "            epochs=100, \n",
    "            batch_size=int(train_X.shape[0] * 0.01),\n",
    "            callbacks=[early_stopping],\n",
    "            verbose=verbose_run\n",
    "        )\n",
    "        verbose_run = 0 # Suppress detailed output for multiple runs\n",
    "\n",
    "        test_loss, test_acc = model.evaluate(test_X, test_y, verbose=0)\n",
    "        y_pred = model.predict(test_X, verbose=0)\n",
    "        y_pred_classes = y_pred.argmax(axis=1)\n",
    "        y_true_classes = test_y.argmax(axis=1)\n",
    "        del model\n",
    "        gc.collect()\n",
    "\n",
    "        # Compute metrics\n",
    "        balanced_acc = balanced_accuracy_score(y_true_classes, y_pred_classes)\n",
    "        roc_auc = roc_auc_score(test_y, y_pred, multi_class='ovr')  # `test_y` is fine here for AUC\n",
    "        pr_auc = average_precision_score(test_y, y_pred, average='weighted')\n",
    "        f2 = fbeta_score(y_true_classes, y_pred_classes, beta=2, average='weighted')\n",
    "        mcc = matthews_corrcoef(y_true_classes, y_pred_classes)\n",
    "\n",
    "        # Store metrics\n",
    "        metrics_storage['test_loss'].append(test_loss)\n",
    "        metrics_storage['test_accuracy'].append(test_acc)\n",
    "        metrics_storage['balanced_accuracy'].append(balanced_acc)\n",
    "        metrics_storage['roc_auc'].append(roc_auc)\n",
    "        metrics_storage['pr_auc'].append(pr_auc)\n",
    "        metrics_storage['f2'].append(f2)\n",
    "        metrics_storage['mcc'].append(mcc)\n",
    "\n",
    "        # Store classification report metrics\n",
    "        report = classification_report(y_true_classes, y_pred_classes, output_dict=True)\n",
    "        for label, values in report.items():\n",
    "            # Check if the value is a dictionary (e.g., 'precision', 'recall', 'f1-score')\n",
    "            if isinstance(values, dict):\n",
    "                for metric, value in values.items():\n",
    "                    metrics_storage[f\"{label}_{metric}\"].append(value)\n",
    "            else:\n",
    "                # Handle scalar values (like 'accuracy')\n",
    "                metrics_storage[label].append(values)\n",
    "\n",
    "        # Average the metrics over all successful runs\n",
    "        print(f\"\\nAggregated Metrics for {run+1} runs:\")\n",
    "        for metric, values in metrics_storage.items():\n",
    "            avg_value = np.mean(values)\n",
    "            print(f\"{metric}: {avg_value:.4f}\")\n",
    "\n",
    "    gc.collect()\n",
    "        "
   ]
  },
  {
   "cell_type": "code",
   "execution_count": null,
   "id": "bee7c342",
   "metadata": {},
   "outputs": [],
   "source": [
    "run_model(\"/kaggle/input/ma-bsmote/shuttle_bsmote.csv\", \"/kaggle/input/ma-datasets/shuttle_test.csv\", is_string_labels = False)"
   ]
  },
  {
   "cell_type": "code",
   "execution_count": null,
   "id": "6750f364",
   "metadata": {},
   "outputs": [],
   "source": [
    "run_model(\"/kaggle/input/ma-bsmote/covtype_bsmote.csv\", \"/kaggle/input/ma-datasets/covtype_test.csv\", is_string_labels = False)"
   ]
  },
  {
   "cell_type": "code",
   "execution_count": null,
   "id": "1ac06d68",
   "metadata": {},
   "outputs": [],
   "source": [
    "labels_map = {\n",
    "    'normal.': 0, 'satan.': 1, 'ipsweep.': 2, 'portsweep.': 3, 'nmap.': 4,\n",
    "    'back.': 5, 'warezclient.': 6, 'teardrop.': 7, 'pod.': 8, 'guess_passwd.': 9,\n",
    "    'buffer_overflow.': 10, 'land.': 11, 'warezmaster.': 12, 'imap.': 13, 'rootkit.': 14,\n",
    "    'loadmodule.': 15, 'multihop.': 16, 'ftp_write.': 17, 'phf.': 18, 'perl.': 19, 'spy.': 20\n",
    "}\n",
    "\n",
    "run_model(\"kdd_bsmote.csv\", \"kdd_test.csv\", is_string_labels = True, label_mapping=labels_map)"
   ]
  },
  {
   "cell_type": "code",
   "execution_count": null,
   "id": "f956923d",
   "metadata": {},
   "outputs": [],
   "source": [
    "labels_map = {\n",
    "    'Normal': 0, 'Darknet_Audio-Streaming': 1, 'Darknet_Chat': 2, 'Darknet_File-Transfer': 3, 'Darknet_VOIP': 4,\n",
    "    'Darknet_Video-Streaming': 5, 'Darknet_Email': 6, 'Darknet_Browsing': 7, 'Darknet_P2P': 8\n",
    "}\n",
    "\n",
    "run_model(\"/kaggle/input/ma-bsmote/darknet_bsmote.csv\", \"/kaggle/input/ma-datasets/darknet_test.csv\", is_string_labels = True, label_mapping = labels_map)"
   ]
  }
 ],
 "metadata": {
  "kaggle": {
   "accelerator": "none",
   "dataSources": [
    {
     "datasetId": 6246813,
     "sourceId": 10123278,
     "sourceType": "datasetVersion"
    }
   ],
   "dockerImageVersionId": 30822,
   "isGpuEnabled": false,
   "isInternetEnabled": false,
   "language": "python",
   "sourceType": "notebook"
  },
  "kernelspec": {
   "display_name": ".venv",
   "language": "python",
   "name": "python3"
  },
  "language_info": {
   "codemirror_mode": {
    "name": "ipython",
    "version": 3
   },
   "file_extension": ".py",
   "mimetype": "text/x-python",
   "name": "python",
   "nbconvert_exporter": "python",
   "pygments_lexer": "ipython3",
   "version": "3.12.3"
  },
  "papermill": {
   "default_parameters": {},
   "duration": 1113.847549,
   "end_time": "2024-12-23T21:53:49.098246",
   "environment_variables": {},
   "exception": null,
   "input_path": "__notebook__.ipynb",
   "output_path": "__notebook__.ipynb",
   "parameters": {},
   "start_time": "2024-12-23T21:35:15.250697",
   "version": "2.6.0"
  }
 },
 "nbformat": 4,
 "nbformat_minor": 5
}
