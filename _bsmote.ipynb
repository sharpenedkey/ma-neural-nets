{
 "cells": [
  {
   "cell_type": "code",
   "execution_count": 6,
   "metadata": {},
   "outputs": [],
   "source": [
    "import pandas as pd\n",
    "import numpy as np\n",
    "from sklearn.utils.class_weight import compute_class_weight\n",
    "from imblearn.over_sampling import BorderlineSMOTE\n",
    "import matplotlib.pyplot as plt\n",
    "from collections import Counter\n"
   ]
  },
  {
   "cell_type": "code",
   "execution_count": 7,
   "metadata": {},
   "outputs": [],
   "source": [
    "def calculate_class_weights(labels):\n",
    "    \"\"\"\n",
    "    Calculate class weights for imbalanced datasets.\n",
    "    Args:\n",
    "        labels (np.array or list): The class labels in the dataset.\n",
    "    Returns:\n",
    "        dict: A dictionary mapping each class to its weight.\n",
    "    \"\"\"\n",
    "    classes = np.unique(labels)\n",
    "    weights = compute_class_weight(class_weight='balanced', classes=classes, y=labels)\n",
    "    return dict(zip(classes, weights))"
   ]
  },
  {
   "cell_type": "code",
   "execution_count": 8,
   "metadata": {},
   "outputs": [],
   "source": [
    "def apply_bsmote_with_limit(X, y, scaling_factor=5000, max_class_limit_ratio=1):\n",
    "    \"\"\"\n",
    "    Apply BorderlineSMOTE with a limit on how much minority classes can be upsampled.\n",
    "\n",
    "    Args:\n",
    "        X (pd.DataFrame): Features of the dataset.\n",
    "        y (pd.Series): Labels of the dataset.\n",
    "        scaling_factor (int): Maximum upscaling factor for minority classes relative to their original size.\n",
    "        max_class_limit_ratio (float): Maximum oversampling limit as a fraction of the largest class size.\n",
    "\n",
    "    Returns:\n",
    "        tuple: Resampled X and y.\n",
    "    \"\"\"\n",
    "\n",
    "    # Convert y to a pandas Series for easier manipulation\n",
    "    y = pd.Series(y)\n",
    "    \n",
    "    # Dynamically determine n_neighbors based on smallest class\n",
    "    class_counts = Counter(y)\n",
    "    min_class_size = min(class_counts.values())\n",
    "    largest_class_size = max(class_counts.values())\n",
    "    n_neighbors = min(5, min_class_size - 1)  # Adjust neighbors to fit smallest class\n",
    "    j_neighbors = min(10, min_class_size - 1)\n",
    "\n",
    "    # Calculate target sizes for minority classes\n",
    "    smote_target_sizes = {\n",
    "        class_label: min(\n",
    "            scaling_factor * original_size,\n",
    "            int(largest_class_size * max_class_limit_ratio)\n",
    "        )\n",
    "        for class_label, original_size in class_counts.items()\n",
    "    }\n",
    "\n",
    "    # Adjust BorderlineSMOTE strategy to limit the oversampling\n",
    "    smote_strategy = {\n",
    "        class_label: target_size\n",
    "        for class_label, target_size in smote_target_sizes.items()\n",
    "        if target_size > class_counts[class_label]\n",
    "    }\n",
    "\n",
    "    # Apply BorderlineSMOTE with the limited strategy\n",
    "    smote = BorderlineSMOTE(sampling_strategy=smote_strategy, random_state=42, k_neighbors=n_neighbors, m_neighbors=j_neighbors)\n",
    "    X_resampled, y_resampled = smote.fit_resample(X, y)\n",
    "\n",
    "    return pd.DataFrame(X_resampled, columns=X.columns), pd.Series(y_resampled)"
   ]
  },
  {
   "cell_type": "markdown",
   "metadata": {},
   "source": [
    "# Shuttle"
   ]
  },
  {
   "cell_type": "code",
   "execution_count": null,
   "metadata": {},
   "outputs": [],
   "source": [
    "# Load the training dataset (replace with your dataset path)\n",
    "dataset_path = \"/kaggle/input/ma-datasets/shuttle_train.csv\"  # Example for KDD dataset\n",
    "data = pd.read_csv(dataset_path)\n",
    "\n",
    "# Assume the last column is the target\n",
    "X = data.iloc[:, :-1]\n",
    "y = data.iloc[:, -1]\n",
    "\n",
    "# Print original class distribution\n",
    "print(\"Original Class Distribution:\")\n",
    "print(y.value_counts())"
   ]
  },
  {
   "cell_type": "code",
   "execution_count": null,
   "metadata": {},
   "outputs": [],
   "source": [
    "# Rebalance with SMOTE\n",
    "X_resampled, y_resampled = apply_bsmote_with_limit(X, y)\n",
    "\n",
    "# Print resampled class distribution\n",
    "print(\"\\nResampled Class Distribution:\")\n",
    "print(pd.Series(y_resampled).value_counts())\n",
    "\n",
    "# Visualize original and resampled distributions\n",
    "fig, ax = plt.subplots(1, 2, figsize=(14, 6))\n",
    "y.value_counts().sort_index().plot(kind='bar', ax=ax[0], title=\"Original Distribution\")\n",
    "pd.Series(y_resampled).value_counts().sort_index().plot(kind='bar', ax=ax[1], title=\"Resampled Distribution\")\n",
    "ax[0].set_xlabel(\"Class\")\n",
    "ax[0].set_ylabel(\"Frequency\")\n",
    "ax[1].set_xlabel(\"Class\")\n",
    "ax[1].set_ylabel(\"Frequency\")\n",
    "plt.tight_layout()\n",
    "plt.show()\n",
    "\n",
    "# Optionally calculate class weights\n",
    "class_weights = calculate_class_weights(y_resampled)\n",
    "print(\"\\nClass Weights (After Resampling):\")\n",
    "print(class_weights)"
   ]
  },
  {
   "cell_type": "code",
   "execution_count": null,
   "metadata": {},
   "outputs": [],
   "source": [
    "# Combine resampled features and labels into a single DataFrame\n",
    "resampled_data = pd.concat([X_resampled, y_resampled.rename('label')], axis=1)\n",
    "\n",
    "# Save the resampled data to a CSV file\n",
    "resampled_data.to_csv(\"shuttle_bsmote.csv\", index=False)\n",
    "\n",
    "print(\"Resampled data has been saved to 'shuttle_bsmote.csv'\")"
   ]
  },
  {
   "cell_type": "markdown",
   "metadata": {},
   "source": [
    "# Covertype"
   ]
  },
  {
   "cell_type": "code",
   "execution_count": null,
   "metadata": {},
   "outputs": [],
   "source": [
    "# Load the training dataset (replace with your dataset path)\n",
    "dataset_path = \"/kaggle/input/ma-datasets/covtype_train.csv\"  # Example for KDD dataset\n",
    "data = pd.read_csv(dataset_path)\n",
    "\n",
    "# Assume the last column is the target\n",
    "X = data.iloc[:, :-1]\n",
    "y = data.iloc[:, -1]\n",
    "\n",
    "# Print original class distribution\n",
    "print(\"Original Class Distribution:\")\n",
    "print(y.value_counts())"
   ]
  },
  {
   "cell_type": "code",
   "execution_count": null,
   "metadata": {},
   "outputs": [],
   "source": [
    "# Rebalance with SMOTE\n",
    "X_resampled, y_resampled = apply_bsmote_with_limit(X, y)\n",
    "\n",
    "# Print resampled class distribution\n",
    "print(\"\\nResampled Class Distribution:\")\n",
    "print(pd.Series(y_resampled).value_counts())\n",
    "\n",
    "# Visualize original and resampled distributions\n",
    "fig, ax = plt.subplots(1, 2, figsize=(14, 6))\n",
    "y.value_counts().sort_index().plot(kind='bar', ax=ax[0], title=\"Original Distribution\")\n",
    "pd.Series(y_resampled).value_counts().sort_index().plot(kind='bar', ax=ax[1], title=\"Resampled Distribution\")\n",
    "ax[0].set_xlabel(\"Class\")\n",
    "ax[0].set_ylabel(\"Frequency\")\n",
    "ax[1].set_xlabel(\"Class\")\n",
    "ax[1].set_ylabel(\"Frequency\")\n",
    "plt.tight_layout()\n",
    "plt.show()\n",
    "\n",
    "# Optionally calculate class weights\n",
    "class_weights = calculate_class_weights(y_resampled)\n",
    "print(\"\\nClass Weights (After Resampling):\")\n",
    "print(class_weights)"
   ]
  },
  {
   "cell_type": "code",
   "execution_count": null,
   "metadata": {},
   "outputs": [],
   "source": [
    "# Combine resampled features and labels into a single DataFrame\n",
    "resampled_data = pd.concat([X_resampled, y_resampled.rename('label')], axis=1)\n",
    "\n",
    "# Save the resampled data to a CSV file\n",
    "resampled_data.to_csv(\"covtype_bsmote.csv\", index=False)\n",
    "\n",
    "print(\"Resampled data has been saved to 'covtype_bsmote.csv'\")"
   ]
  },
  {
   "cell_type": "markdown",
   "metadata": {},
   "source": [
    "# Darknet"
   ]
  },
  {
   "cell_type": "code",
   "execution_count": null,
   "metadata": {},
   "outputs": [],
   "source": [
    "# Load the training dataset (replace with your dataset path)\n",
    "dataset_path = \"/kaggle/input/ma-datasets/darknet_train.csv\"  # Example for KDD dataset\n",
    "data = pd.read_csv(dataset_path)\n",
    "\n",
    "# Assume the last column is the target\n",
    "X = data.iloc[:, :-1]\n",
    "y = data.iloc[:, -1]\n",
    "\n",
    "# Print original class distribution\n",
    "print(\"Original Class Distribution:\")\n",
    "print(y.value_counts())"
   ]
  },
  {
   "cell_type": "code",
   "execution_count": null,
   "metadata": {},
   "outputs": [],
   "source": [
    "# Rebalance with SMOTE\n",
    "X_resampled, y_resampled = apply_bsmote_with_limit(X, y)\n",
    "\n",
    "# Print resampled class distribution\n",
    "print(\"\\nResampled Class Distribution:\")\n",
    "print(pd.Series(y_resampled).value_counts())\n",
    "\n",
    "# Visualize original and resampled distributions\n",
    "fig, ax = plt.subplots(1, 2, figsize=(14, 6))\n",
    "y.value_counts().sort_index().plot(kind='bar', ax=ax[0], title=\"Original Distribution\")\n",
    "pd.Series(y_resampled).value_counts().sort_index().plot(kind='bar', ax=ax[1], title=\"Resampled Distribution\")\n",
    "ax[0].set_xlabel(\"Class\")\n",
    "ax[0].set_ylabel(\"Frequency\")\n",
    "ax[1].set_xlabel(\"Class\")\n",
    "ax[1].set_ylabel(\"Frequency\")\n",
    "plt.tight_layout()\n",
    "plt.show()\n",
    "\n",
    "# Optionally calculate class weights\n",
    "class_weights = calculate_class_weights(y_resampled)\n",
    "print(\"\\nClass Weights (After Resampling):\")\n",
    "print(class_weights)"
   ]
  },
  {
   "cell_type": "code",
   "execution_count": null,
   "metadata": {},
   "outputs": [],
   "source": [
    "# Combine resampled features and labels into a single DataFrame\n",
    "resampled_data = pd.concat([X_resampled, y_resampled.rename('label')], axis=1)\n",
    "\n",
    "# Save the resampled data to a CSV file\n",
    "resampled_data.to_csv(\"darknet_bsmote.csv\", index=False)\n",
    "\n",
    "print(\"Resampled data has been saved to 'darknet_bsmote.csv'\")"
   ]
  },
  {
   "cell_type": "markdown",
   "metadata": {},
   "source": [
    "# KDD"
   ]
  },
  {
   "cell_type": "code",
   "execution_count": null,
   "metadata": {},
   "outputs": [],
   "source": [
    "# Load the training dataset (replace with your dataset path)\n",
    "dataset_path = \"/kaggle/input/ma-datasets/kdd_train.csv\"  # Example for KDD dataset\n",
    "data = pd.read_csv(dataset_path)\n",
    "\n",
    "# Assume the last column is the target\n",
    "X = data.iloc[:, :-1]\n",
    "y = data.iloc[:, -1]\n",
    "\n",
    "# Print original class distribution\n",
    "print(\"Original Class Distribution:\")\n",
    "print(y.value_counts())"
   ]
  },
  {
   "cell_type": "code",
   "execution_count": null,
   "metadata": {},
   "outputs": [],
   "source": [
    "# Rebalance with SMOTE\n",
    "X_resampled, y_resampled = apply_bsmote_with_limit(X, y)\n",
    "\n",
    "# Print resampled class distribution\n",
    "print(\"\\nResampled Class Distribution:\")\n",
    "print(pd.Series(y_resampled).value_counts())\n",
    "\n",
    "# Visualize original and resampled distributions\n",
    "fig, ax = plt.subplots(1, 2, figsize=(14, 6))\n",
    "y.value_counts().sort_index().plot(kind='bar', ax=ax[0], title=\"Original Distribution\")\n",
    "pd.Series(y_resampled).value_counts().sort_index().plot(kind='bar', ax=ax[1], title=\"Resampled Distribution\")\n",
    "ax[0].set_xlabel(\"Class\")\n",
    "ax[0].set_ylabel(\"Frequency\")\n",
    "ax[1].set_xlabel(\"Class\")\n",
    "ax[1].set_ylabel(\"Frequency\")\n",
    "plt.tight_layout()\n",
    "plt.show()\n",
    "\n",
    "# Optionally calculate class weights\n",
    "class_weights = calculate_class_weights(y_resampled)\n",
    "print(\"\\nClass Weights (After Resampling):\")\n",
    "print(class_weights)"
   ]
  },
  {
   "cell_type": "code",
   "execution_count": null,
   "metadata": {},
   "outputs": [],
   "source": [
    "# Combine resampled features and labels into a single DataFrame\n",
    "resampled_data = pd.concat([X_resampled, y_resampled.rename('label')], axis=1)\n",
    "\n",
    "# Save the resampled data to a CSV file\n",
    "resampled_data.to_csv(\"kdd_bsmote.csv\", index=False)\n",
    "\n",
    "print(\"Resampled data has been saved to 'kdd_bsmote.csv'\")"
   ]
  }
 ],
 "metadata": {
  "kernelspec": {
   "display_name": ".venv",
   "language": "python",
   "name": "python3"
  },
  "language_info": {
   "codemirror_mode": {
    "name": "ipython",
    "version": 3
   },
   "file_extension": ".py",
   "mimetype": "text/x-python",
   "name": "python",
   "nbconvert_exporter": "python",
   "pygments_lexer": "ipython3",
   "version": "3.12.3"
  }
 },
 "nbformat": 4,
 "nbformat_minor": 2
}
